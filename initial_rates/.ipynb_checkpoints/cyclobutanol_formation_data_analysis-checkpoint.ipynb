{
 "cells": [
  {
   "cell_type": "markdown",
   "metadata": {},
   "source": [
    "## Cyclobutanol Formation Data Analysis\n",
    "#### Experiment: Rate of reaction from UV-Vis spectra\n",
    "0. Imports"
   ]
  },
  {
   "cell_type": "code",
   "execution_count": 1,
   "metadata": {},
   "outputs": [],
   "source": [
    "from kinetics.FSQ import compFTOfSpectrum, compSortedEigenSet, compNumEigenVectors, compSEE\n",
    "from kinetics.initial_rates import compInitialRate, compLeastSquaresRateLaw\n",
    "from kinetics.json_definitions import readCalibrationData, readKineticData\n",
    "import os\n",
    "import numpy\n",
    "from collections import defaultdict\n",
    "from matplotlib import pyplot as plt"
   ]
  },
  {
   "cell_type": "markdown",
   "metadata": {},
   "source": [
    "1. Load the calibration data."
   ]
  },
  {
   "cell_type": "code",
   "execution_count": 2,
   "metadata": {},
   "outputs": [],
   "source": [
    "path_to_calibration_data = \"cyclobutanol_formation/calibration_json\"\n",
    "calibration_data = readCalibrationData(path_to_calibration_data)"
   ]
  },
  {
   "cell_type": "markdown",
   "metadata": {},
   "source": [
    "2. Create a $w$ by $m$ matrix $M$ holding the absorbance measurements at each wavelength $w$ for each standard mixture $m$, and a corresponding $n$ by $m$ matrix $C$ with the concentrations of each one of the $n$ components in each of the $m$ standard mixtures."
   ]
  },
  {
   "cell_type": "code",
   "execution_count": 3,
   "metadata": {},
   "outputs": [],
   "source": [
    "M = numpy.array(calibration_data[\"absorbances\"])\n",
    "C = numpy.array(calibration_data[\"concentrations\"])\n",
    "wavelengths = calibration_data[\"wavelengths\"]\n",
    "component_ids = calibration_data[\"component_ids\"]\n",
    "# wavelength_offset = 601-567\n",
    "# M = M[wavelength_offset:,:]"
   ]
  },
  {
   "cell_type": "markdown",
   "metadata": {},
   "source": [
    "3. Compute matrix $F$ by taking the Fourier transform of each of the columns of the absorbance matrix $M$. Select only a consecutive subset of the terms in the Fourier transform by specifying the index of the term at the beginning and the number of terms to include."
   ]
  },
  {
   "cell_type": "code",
   "execution_count": 4,
   "metadata": {},
   "outputs": [],
   "source": [
    "path_length = 1.0 #cm\n",
    "starting_at_term = 2\n",
    "number_of_terms = 256\n",
    "\n",
    "F = [\n",
    "    compFTOfSpectrum(\n",
    "        #Fourier terms obtained from real, symmetric spectra\n",
    "        numpy.hstack((numpy.flip(spectrum), spectrum))[:-1],\n",
    "    ) \n",
    "    for spectrum in M.T\n",
    "]\n",
    "\n",
    "F = (numpy.array(F).T)[starting_at_term:(starting_at_term + number_of_terms), :]"
   ]
  },
  {
   "cell_type": "markdown",
   "metadata": {},
   "source": [
    "4. Compute the set of eigenvalues and eigenvectors of the variance-covariance matrix."
   ]
  },
  {
   "cell_type": "code",
   "execution_count": 5,
   "metadata": {},
   "outputs": [],
   "source": [
    "eigenvalues, eigenvectors = compSortedEigenSet(F)"
   ]
  },
  {
   "cell_type": "markdown",
   "metadata": {},
   "source": [
    "5. Compute the number of eigenvectors to use and arrange them in a matrix $V$."
   ]
  },
  {
   "cell_type": "code",
   "execution_count": 6,
   "metadata": {},
   "outputs": [
    {
     "name": "stdout",
     "output_type": "stream",
     "text": [
      "17\n"
     ]
    }
   ],
   "source": [
    "k = compNumEigenVectors(eigenvalues)\n",
    "V = eigenvectors[:,:k]\n",
    "print(k)"
   ]
  },
  {
   "cell_type": "markdown",
   "metadata": {},
   "source": [
    "6. Compute $Z = V^TF$, $P = CZ^T(ZZ^T)^{-1}$ and $M = PV^{T}$."
   ]
  },
  {
   "cell_type": "code",
   "execution_count": 7,
   "metadata": {},
   "outputs": [],
   "source": [
    "Z = numpy.matmul(V.T,F)\n",
    "P = numpy.matmul(C, numpy.matmul(Z.T,numpy.linalg.inv(numpy.matmul(Z,Z.T))))\n",
    "M = numpy.matmul(P, V.T)"
   ]
  },
  {
   "cell_type": "markdown",
   "metadata": {},
   "source": [
    "7. Compute the standard error of estimation, $SEE$."
   ]
  },
  {
   "cell_type": "code",
   "execution_count": 8,
   "metadata": {},
   "outputs": [
    {
     "name": "stdout",
     "output_type": "stream",
     "text": [
      "0.0003694589403360945\n"
     ]
    }
   ],
   "source": [
    "SEE = compSEE(C,M,F,k)\n",
    "print(SEE)"
   ]
  },
  {
   "cell_type": "markdown",
   "metadata": {},
   "source": [
    "8. Compute the concentration of each component in the mixture at all time points by reading the data from each kinetic experiment file."
   ]
  },
  {
   "cell_type": "code",
   "execution_count": 9,
   "metadata": {},
   "outputs": [],
   "source": [
    "path_to_kinetic_data = 'cyclobutanol_formation/kinetic_json'\n",
    "experiments = {}\n",
    "\n",
    "# Iterate over the kinetic experiment directories.\n",
    "for directory_name in [directory for directory in os.listdir(path_to_kinetic_data) if not directory.startswith('.')]:\n",
    "    path_to_directory = os.path.join(path_to_kinetic_data, directory_name)\n",
    "    \n",
    "    # Read kinetic experiment data.\n",
    "    kinetic_experiment = readKineticData(path_to_directory)\n",
    "    \n",
    "    # Read time points as relative to the initial time point.\n",
    "    time_points = kinetic_experiment[\"time_points\"]\n",
    "    t0 = min(time_points)\n",
    "    if t0 > 0:\n",
    "        time_points = list(numpy.array(time_points)-t0)\n",
    "    \n",
    "    # Create a matrix holding the absorbance measurements of the mixture.\n",
    "    mixture_absorbances = numpy.array(kinetic_experiment[\"absorbances\"])\n",
    "#     mixture_absorbances = numpy.array(kinetic_experiment[\"absorbances\"])[wavelength_offset:,:]\n",
    "    \n",
    "    # Compute the Fourier transform of the mixture absorbance matrix.\n",
    "    mixture_absorbances_FT = [\n",
    "        compFTOfSpectrum(\n",
    "            numpy.hstack((numpy.flip(spectrum), spectrum))[:-1], \n",
    "            path_length\n",
    "        ) for spectrum in mixture_absorbances.T\n",
    "    ]\n",
    "    \n",
    "    # Select the same subset of Fourier terms as the calibration absorbance matrix.\n",
    "    mixture_absorbances_FT = (numpy.array(mixture_absorbances_FT).T)[\n",
    "        starting_at_term:(starting_at_term + number_of_terms), :]\n",
    "    \n",
    "    # Compute concentrations of each component in the mixture.\n",
    "    concentrations = numpy.matmul(M, mixture_absorbances_FT).real\n",
    "    \n",
    "    # Scale concentrations by the dilution factor.\n",
    "    dilution_factors = numpy.array(kinetic_experiment[\"dilution_factors\"])\n",
    "    concentrations = concentrations * numpy.reciprocal(dilution_factors)\n",
    "    \n",
    "    # Replace negative concentrations values with 0.\n",
    "    concentrations[concentrations < 0] = 0\n",
    "    \n",
    "    # Record time points and computed component concentrations in the experiments dictionary\n",
    "    experiment_id = kinetic_experiment[\"experiment_id\"]\n",
    "    experiments[experiment_id] = {\n",
    "        \"time_points\": time_points,\n",
    "        \"concentrations\": [list(c) for c in concentrations],\n",
    "    }"
   ]
  },
  {
   "cell_type": "markdown",
   "metadata": {},
   "source": [
    "9. Compute the initial rates by estimating the initial rate of change in concentration of each monitored component."
   ]
  },
  {
   "cell_type": "code",
   "execution_count": 10,
   "metadata": {},
   "outputs": [
    {
     "data": {
      "text/plain": [
       "dict_keys(['01_200uM_08102021'])"
      ]
     },
     "execution_count": 10,
     "metadata": {},
     "output_type": "execute_result"
    }
   ],
   "source": [
    "experiments.keys()"
   ]
  },
  {
   "cell_type": "code",
   "execution_count": 12,
   "metadata": {},
   "outputs": [
    {
     "name": "stdout",
     "output_type": "stream",
     "text": [
      "The reaction percentage specified will probably lead to significant errors in the approximation of the initial rate. Please keep the value of reaction percentage below or at 10%\n",
      "\n",
      "\n",
      "There are not enough measurements within the percent of the reaction specified and the best approximation available is the slope of the chord obtained from the first concentration measurement.\n",
      "\n",
      "\n"
     ]
    },
    {
     "data": {
      "image/png": "[encoded data removed]",
      "text/plain": [
       "<Figure size 432x288 with 1 Axes>"
      ]
     },
     "metadata": {
      "needs_background": "light"
     },
     "output_type": "display_data"
    },
    {
     "name": "stdout",
     "output_type": "stream",
     "text": [
      "initial_rate =  9.888318660984275e-07 M/s\n",
      "The reaction percentage specified will probably lead to significant errors in the approximation of the initial rate. Please keep the value of reaction percentage below or at 10%\n",
      "\n",
      "\n",
      "There are not enough measurements within the percent of the reaction specified and the best approximation available is the slope of the chord obtained from the first concentration measurement.\n",
      "\n",
      "\n"
     ]
    },
    {
     "data": {
      "image/png": "[encoded data removed]",
      "text/plain": [
       "<Figure size 432x288 with 1 Axes>"
      ]
     },
     "metadata": {
      "needs_background": "light"
     },
     "output_type": "display_data"
    },
    {
     "name": "stdout",
     "output_type": "stream",
     "text": [
      "initial_rate =  4.9983414523485186e-08 M/s\n",
      "The reaction percentage specified will probably lead to significant errors in the approximation of the initial rate. Please keep the value of reaction percentage below or at 10%\n",
      "\n",
      "\n",
      "There are not enough measurements within the percent of the reaction specified and the best approximation available is the slope of the chord obtained from the first concentration measurement.\n",
      "\n",
      "\n"
     ]
    },
    {
     "data": {
      "image/png": "[encoded data removed]",
      "text/plain": [
       "<Figure size 432x288 with 1 Axes>"
      ]
     },
     "metadata": {
      "needs_background": "light"
     },
     "output_type": "display_data"
    },
    {
     "name": "stdout",
     "output_type": "stream",
     "text": [
      "initial_rate =  4.5211472081123174e-07 M/s\n"
     ]
    }
   ],
   "source": [
    "# Add reaction information associated to each component ordered according to its position in the component id list.\n",
    "component_is_reactant = [True, False, False]\n",
    "stoichiometric_coefficients = [1.0, 1.0, 1.0]\n",
    "# Set parameters used to compute the initial rate of change in concentration of each component in each experiment.\n",
    "# experiments['05_150uM_08092021']['initial_rate_parameters'] = {\n",
    "#     'piperidine_acetophenone': {\n",
    "#         'time_range': slice(0,len(experiments['05_150uM_08092021']['time_points'])),\n",
    "#         'reaction_percentage': 99\n",
    "#     },\n",
    "#     'tosic_acid': {\n",
    "#         'time_range': slice(0,len(experiments['05_150uM_08092021']['time_points'])),\n",
    "#         'reaction_percentage': 99\n",
    "#     },\n",
    "# }\n",
    "experiments['01_200uM_08102021']['initial_rate_parameters'] = {\n",
    "    'acetophenone_cyclohexane': {\n",
    "        'time_range': slice(0,len(experiments['01_200uM_08102021']['time_points'])),\n",
    "        'reaction_percentage': 99\n",
    "    },\n",
    "    'cis_cyclobutanol': {\n",
    "        'time_range': slice(0,len(experiments['01_200uM_08102021']['time_points'])),\n",
    "        'reaction_percentage': 99\n",
    "    },\n",
    "    'acetophenone': {\n",
    "        'time_range': slice(0,len(experiments['01_200uM_08102021']['time_points'])),\n",
    "        'reaction_percentage': 99\n",
    "    } \n",
    "}\n",
    "# experiments['02_100uM_08042021']['initial_rate_parameters'] = {\n",
    "#     'piperidine_acetophenone': {\n",
    "#         'time_range': slice(0,len(experiments['02_100uM_08042021']['time_points'])),\n",
    "#         'reaction_percentage': 99\n",
    "#     },\n",
    "#     'tosic_acid': {\n",
    "#         'time_range': slice(0,len(experiments['02_100uM_08042021']['time_points'])),\n",
    "#         'reaction_percentage': 99\n",
    "#     },\n",
    "# }\n",
    "# experiments['04_75uM_08092021']['initial_rate_parameters'] = {\n",
    "#     'piperidine_acetophenone': {\n",
    "#         'time_range': slice(1,len(experiments['04_75uM_08092021']['time_points'])),\n",
    "#         'reaction_percentage': 99\n",
    "#     },\n",
    "#     'tosic_acid': {\n",
    "#         'time_range': slice(0,len(experiments['04_75uM_08092021']['time_points'])),\n",
    "#         'reaction_percentage': 99\n",
    "#     },\n",
    "# }\n",
    "# experiments['03_50uM_08042021']['initial_rate_parameters'] = {\n",
    "#     'piperidine_acetophenone': {\n",
    "#         'time_range': slice(1,len(experiments['03_50uM_08042021']['time_points'])),\n",
    "#         'reaction_percentage': 99\n",
    "#     },\n",
    "#     'tosic_acid': {\n",
    "#         'time_range': slice(0,len(experiments['03_50uM_08042021']['time_points'])),\n",
    "#         'reaction_percentage': 99\n",
    "#     },\n",
    "# }\n",
    "experiment_ids = list(experiments.keys())\n",
    "for experiment_id in experiment_ids:\n",
    "    initial_rates = []\n",
    "    for component_index, component_id in enumerate(component_ids):\n",
    "        experiment = experiments[experiment_id]\n",
    "        time_range = experiment['initial_rate_parameters'][component_id]['time_range']\n",
    "        reaction_percentage = experiment['initial_rate_parameters'][component_id]['reaction_percentage']\n",
    "        time_points_subset = experiment['time_points'][time_range]\n",
    "        concentrations_subset = experiment['concentrations'][component_index][time_range]\n",
    "        stoichiometric_coefficient = stoichiometric_coefficients[component_index]\n",
    "        t = time_points_subset[:]\n",
    "        time_points_subset = list(numpy.array(time_points_subset)-time_points_subset[0])\n",
    "\n",
    "        initial_rate = compInitialRate(stoichiometric_coefficient, time_points_subset, concentrations_subset, reaction_percentage)\n",
    "        initial_rates.append(initial_rate)\n",
    "        \n",
    "        # Generate initial rate curve.\n",
    "        is_reactant = component_is_reactant[component_index]\n",
    "        initial_rate_curve = concentrations_subset[0]  + numpy.multiply(\n",
    "            (-1 if is_reactant else 1) * stoichiometric_coefficient * initial_rate,\n",
    "            time_points_subset)\n",
    "\n",
    "        # Plot kinetic data and the initial rate curve.\n",
    "        plt.title(f\"{experiment_id}\") \n",
    "        plt.xlabel(\"t/s\") \n",
    "        plt.ylabel(f\"[{component_id}]/M\") \n",
    "        plt.plot(t, concentrations_subset, \"-bo\", linestyle='none', label = f\"[{component_id}] at t\")\n",
    "        plt.plot(t, initial_rate_curve, \"-r\", label = \"Initial rate\")\n",
    "        plt.legend(loc = \"upper right\")\n",
    "        plt.ylim(min(concentrations_subset), max(concentrations_subset))\n",
    "        plt.xlim(0, t[-1])\n",
    "        plt.show()\n",
    "        print(\"initial_rate = \", initial_rate, \"M/s\")\n",
    "    experiments[experiment_id]['initial_rates'] = initial_rates"
   ]
  },
  {
   "cell_type": "markdown",
   "metadata": {},
   "source": [
    "10. Compute the rate constant and order of SK_2_143_yellowcomplex using linear regression."
   ]
  },
  {
   "cell_type": "code",
   "execution_count": 18,
   "metadata": {},
   "outputs": [
    {
     "data": {
      "text/plain": [
       "['01_200uM_08032021',\n",
       " '04_75uM_08092021',\n",
       " '03_50uM_08042021',\n",
       " '02_100uM_08042021']"
      ]
     },
     "execution_count": 18,
     "metadata": {},
     "output_type": "execute_result"
    }
   ],
   "source": [
    "experiment_ids"
   ]
  },
  {
   "cell_type": "code",
   "execution_count": 26,
   "metadata": {},
   "outputs": [
    {
     "name": "stdout",
     "output_type": "stream",
     "text": [
      "piperidine_acetophenone order: 1.2786935229397707\n",
      "reaction rate constant: 0.007520598604550544\n"
     ]
    },
    {
     "data": {
      "image/png": "[encoded data removed]",
      "text/plain": [
       "<Figure size 432x288 with 1 Axes>"
      ]
     },
     "metadata": {
      "needs_background": "light"
     },
     "output_type": "display_data"
    }
   ],
   "source": [
    "experiments['01_200uM_08032021']['initial_concentrations'] = [200, 0]\n",
    "experiments['02_100uM_08042021']['initial_concentrations'] = [100, 0]\n",
    "experiments['04_75uM_08092021']['initial_concentrations'] = [75, 0]\n",
    "experiments['03_50uM_08042021']['initial_concentrations'] = [50, 0]\n",
    "experiments['05_150uM_08092021']['initial_concentrations'] = [150, 0]\n",
    "\n",
    "initial_rates = [\n",
    "    experiments[experiment_id]['initial_rates'][0]\n",
    "    for experiment_id in experiment_ids\n",
    "]\n",
    "initial_concentrations = [\n",
    "    [numpy.divide(experiments[experiment_id]['initial_concentrations'][0], 1e6)]\n",
    "    for experiment_id in experiment_ids\n",
    "]\n",
    "\n",
    "[rate_constant, m_piperidine_acetophenone] = compLeastSquaresRateLaw(initial_concentrations, initial_rates)\n",
    "fit = [\n",
    "    numpy.log(rate_constant) + numpy.log(c[0])*m_piperidine_acetophenone\n",
    "    for c in initial_concentrations\n",
    "]\n",
    "\n",
    "print(f\"piperidine_acetophenone order: {m_piperidine_acetophenone}\")\n",
    "print(f\"reaction rate constant: {rate_constant}\")\n",
    "\n",
    "plt.xlabel(\"Log (Conc.)\") \n",
    "plt.ylabel(\"Log (Initial rate)\") \n",
    "plt.plot(numpy.log(initial_concentrations), numpy.log(initial_rates), \"-bo\", linestyle='none')\n",
    "plt.plot(numpy.log(initial_concentrations), fit, \"-r\")\n",
    "plt.show()"
   ]
  },
  {
   "cell_type": "code",
   "execution_count": null,
   "metadata": {},
   "outputs": [],
   "source": []
  }
 ],
 "metadata": {
  "kernelspec": {
   "display_name": "Python 3",
   "language": "python",
   "name": "python3"
  },
  "language_info": {
   "codemirror_mode": {
    "name": "ipython",
    "version": 3
   },
   "file_extension": ".py",
   "mimetype": "text/x-python",
   "name": "python",
   "nbconvert_exporter": "python",
   "pygments_lexer": "ipython3",
   "version": "3.9.0"
  }
 },
 "nbformat": 4,
 "nbformat_minor": 4
}

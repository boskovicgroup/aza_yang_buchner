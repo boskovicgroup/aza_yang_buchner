{
 "cells": [
  {
   "cell_type": "markdown",
   "metadata": {},
   "source": [
    "## SK_2_141 Data Formatting\n",
    "\n",
    "0. Imports"
   ]
  },
  {
   "cell_type": "code",
   "execution_count": 1,
   "metadata": {},
   "outputs": [],
   "source": [
    "import os\n",
    "import ipysheet\n",
    "import ipywidgets as widgets\n",
    "from kinetics.json_definitions import *\n",
    "from kinetics.DU640_spectrum import readSpectrumFromFile\n",
    "from kinetics.util import writeJSONFile"
   ]
  },
  {
   "cell_type": "markdown",
   "metadata": {},
   "source": [
    "1. Parse the spectrum files belonging to the calibration experiments. In this experiment, each standard mixture was prepared with only one of the absorbing components."
   ]
  },
  {
   "cell_type": "code",
   "execution_count": 2,
   "metadata": {},
   "outputs": [
    {
     "name": "stdout",
     "output_type": "stream",
     "text": [
      "Enter the concentration (uM) of each component in each standard\n"
     ]
    },
    {
     "data": {
      "application/vnd.jupyter.widget-view+json": {
       "model_id": "7f2b8395041f40dc8226fee1742b2e8d",
       "version_major": 2,
       "version_minor": 0
      },
      "text/plain": [
       "VBox(children=(Sheet(cells=(Cell(column_end=0, column_start=0, read_only=True, row_end=13, row_start=1, squeez…"
      ]
     },
     "metadata": {},
     "output_type": "display_data"
    }
   ],
   "source": [
    "# Specify the directory containing the raw spectrum files.\n",
    "path_to_calibration_spectra = \"SK_2_141/calibration_raw\"\n",
    "# Specify the target directory; where JSON files will be written.\n",
    "path_to_calibration_json = \"SK_2_141/calibration_json\"\n",
    "\n",
    "# Create an array with the name of each determined component\n",
    "components = ['SK_2_143_yellowcomplex', 'SK_2_bluecomplex']\n",
    "\n",
    "# List files in directory containing the absorption spectra of standards.\n",
    "file_names = list(filter(lambda file_name: not file_name.startswith('.'), os.listdir(path_to_calibration_spectra)))\n",
    "\n",
    "# Create a spreadsheet to input concentration values\n",
    "num_rows = len(file_names)+1\n",
    "num_cols = len(components)+1\n",
    "input_prompt = 'Enter the concentration (uM) of each component in each standard'\n",
    "concentrations_sheet = ipysheet.sheet(rows=num_rows, columns=num_cols, column_headers=False, row_headers=False)\n",
    "filename_column = ipysheet.column(0, file_names, row_start=1, background_color=\"silver\", read_only=True)\n",
    "components_row = ipysheet.row(0, components, column_start=1, background_color=\"silver\", read_only=True)\n",
    "concentration_cells = ipysheet.cell_range([[0]*(num_cols-1)]*(num_rows-1), row_start=1, column_start=1)\n",
    "submit_button = widgets.Button(\n",
    "    description='Submit',\n",
    "    disabled=False,\n",
    "    button_style='',\n",
    "    tooltip='Write JSON File',\n",
    "    icon='check'\n",
    ")\n",
    "def on_submit(_):\n",
    "    for i in range(len(file_names)):\n",
    "        path_to_file = os.path.join(path_to_calibration_spectra, file_names[i])\n",
    "        concentrations = list(map(lambda concentration: concentration*1e-6, concentration_cells.value[i]))\n",
    "        spectrum = readSpectrumFromFile(path_to_file)\n",
    "        spectrum_json = standardSpectrumToJSON(components, concentrations, spectrum)\n",
    "        path_to_write = os.path.join(path_to_calibration_json, os.path.splitext(file_names[i])[0] + '.json')\n",
    "        writeJSONFile(spectrum_json, path_to_write)\n",
    "submit_button.on_click(on_submit)\n",
    "\n",
    "#Display spreadsheet\n",
    "print(input_prompt)\n",
    "widgets.VBox([concentrations_sheet, submit_button])\n"
   ]
  },
  {
   "cell_type": "markdown",
   "metadata": {},
   "source": [
    "2. Parse the spectrum files belonging to the kinetic experiments. Each experiment has a directory associated to it that contains the spectrum files obtained at each time point during the experiment."
   ]
  },
  {
   "cell_type": "code",
   "execution_count": 3,
   "metadata": {},
   "outputs": [
    {
     "name": "stdout",
     "output_type": "stream",
     "text": [
      "Enter the time and dilution factor associated to each experiment\n"
     ]
    },
    {
     "data": {
      "application/vnd.jupyter.widget-view+json": {
       "model_id": "22d7ba28794a48fdaecc9aaa6c7dc758",
       "version_major": 2,
       "version_minor": 0
      },
      "text/plain": [
       "VBox(children=(Sheet(cells=(Cell(column_end=0, column_start=0, read_only=True, row_end=54, row_start=1, squeez…"
      ]
     },
     "metadata": {},
     "output_type": "display_data"
    }
   ],
   "source": [
    "# Specify the directory containing the raw spectrum files.\n",
    "path_to_kinetic_spectra = \"SK_2_141/kinetic_raw/SK_2_151_25uM\"\n",
    "# Specify the target directory; where JSON files will be written.\n",
    "path_to_kinetic_json = \"SK_2_141/kinetic_json/SK_2_151_25uM\"\n",
    "\n",
    "experiment_id = \"SK_2_151_25uM\"\n",
    "\n",
    "# List files in directory containing the absorption spectra.\n",
    "file_names = list(filter(lambda file_name: not file_name.startswith('.'), os.listdir(path_to_kinetic_spectra)))\n",
    "\n",
    "# Create a spreadsheet to input time point values and dilution factors\n",
    "num_rows = len(file_names)+1\n",
    "num_cols = 3\n",
    "input_prompt = 'Enter the time and dilution factor associated to each experiment'\n",
    "kinetic_sheet = ipysheet.sheet(rows=num_rows, columns=num_cols, column_headers=False, row_headers=False)\n",
    "filename_column = ipysheet.column(0, file_names, row_start=1, background_color=\"silver\", read_only=True)\n",
    "first_row = ipysheet.row(0, ['','Time (min)', 'Dilution factor'], column_start=0, background_color=\"silver\", read_only=True)\n",
    "time_cells = ipysheet.cell_range([[0]]*(num_rows-1), row_start=1, column_start=1)\n",
    "dilution_factor_cells = ipysheet.cell_range([[1]]*(num_rows-1), row_start=1, column_start=2)\n",
    "submit_button = widgets.Button(\n",
    "    description='Submit',\n",
    "    disabled=False,\n",
    "    button_style='',\n",
    "    tooltip='Write JSON File',\n",
    "    icon='check'\n",
    ")\n",
    "def on_submit(_):\n",
    "    for i in range(len(file_names)):\n",
    "        path_to_file = os.path.join(path_to_kinetic_spectra, file_names[i])\n",
    "        spectrum = readSpectrumFromFile(path_to_file)\n",
    "#         time_point = float(os.path.splitext(file_names[i])[0][:-1])\n",
    "        time_point = time_cells.value[i][0]\n",
    "        dilution_factor = dilution_factor_cells.value[i][0]\n",
    "        spectrum_json = kineticSpectrumToJSON(experiment_id, time_point*60, dilution_factor, spectrum)\n",
    "        path_to_write = os.path.join(path_to_kinetic_json, os.path.splitext(file_names[i])[0] + '.json')\n",
    "        writeJSONFile(spectrum_json, path_to_write)\n",
    "submit_button.on_click(on_submit)\n",
    "\n",
    "#Display spreadsheet\n",
    "print(input_prompt)\n",
    "widgets.VBox([kinetic_sheet, submit_button])\n"
   ]
  },
  {
   "cell_type": "code",
   "execution_count": null,
   "metadata": {},
   "outputs": [],
   "source": []
  }
 ],
 "metadata": {
  "kernelspec": {
   "display_name": "Python 3",
   "language": "python",
   "name": "python3"
  },
  "language_info": {
   "codemirror_mode": {
    "name": "ipython",
    "version": 3
   },
   "file_extension": ".py",
   "mimetype": "text/x-python",
   "name": "python",
   "nbconvert_exporter": "python",
   "pygments_lexer": "ipython3",
   "version": "3.9.0"
  }
 },
 "nbformat": 4,
 "nbformat_minor": 4
}
